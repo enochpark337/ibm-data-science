{
 "cells": [
  {
   "cell_type": "markdown",
   "id": "235db12e-8a15-4198-8474-c818567c4616",
   "metadata": {},
   "source": [
    "# Data Science Tools and Ecosystem\n"
   ]
  },
  {
   "cell_type": "markdown",
   "id": "128fce49-9fff-453b-ab84-0a2c7ac26984",
   "metadata": {},
   "source": [
    "In this notebook, Data Science Tools and Ecosystem are summerized."
   ]
  },
  {
   "cell_type": "markdown",
   "id": "a69f6187-147d-4a49-b0c9-1036e2cfe3e3",
   "metadata": {},
   "source": [
    "**Objectives:**\n",
    "* List popular languages for Data Science.\n",
    "* List commonly used libraries for Data Science.\n",
    "* List commonly used Data Science Tools.\n",
    "\n"
   ]
  },
  {
   "cell_type": "markdown",
   "id": "bb3f69e6-b543-4fba-b1d0-f9fe9cbf34fa",
   "metadata": {},
   "source": [
    "Some of the popular languages that Data Scientists use are:\n",
    "1. Python\n",
    "2. SQL\n",
    "3. R"
   ]
  },
  {
   "cell_type": "markdown",
   "id": "9ae0d64b-52d8-4ea1-bb28-6c7f0b3f2a56",
   "metadata": {},
   "source": [
    "Some of the commonly used libraries used by Data Scientists include:\n",
    "1. Pandas\n",
    "2. NumPy\n",
    "3. Matplotlib"
   ]
  },
  {
   "cell_type": "markdown",
   "id": "c317e379-d769-4745-8fe2-d7cb6fe122db",
   "metadata": {},
   "source": [
    "| Data Science Tool |\n",
    "| - |\n",
    "| Jupyter Notebook |\n",
    "| VS Code |\n",
    "| Google Colab |"
   ]
  },
  {
   "cell_type": "markdown",
   "id": "dc6fdccf-2958-4ab8-a2f5-51d10b97e7ab",
   "metadata": {},
   "source": [
    "### Below are a few examples of evaluating arithmetic expressions in Python."
   ]
  },
  {
   "cell_type": "markdown",
   "id": "91f28c90-5044-4620-bd4b-4ede1de63bea",
   "metadata": {},
   "source": [
    "This is a simple arithmetic expression to multiply then add integers."
   ]
  },
  {
   "cell_type": "code",
   "execution_count": 1,
   "id": "f0200b70-a2f5-40db-b58c-fdcfe56c8997",
   "metadata": {},
   "outputs": [
    {
     "data": {
      "text/plain": [
       "17"
      ]
     },
     "execution_count": 1,
     "metadata": {},
     "output_type": "execute_result"
    }
   ],
   "source": [
    "(3 * 4) + 5"
   ]
  },
  {
   "cell_type": "markdown",
   "id": "1ec296d3-fb9c-46d4-b085-9e7631352470",
   "metadata": {},
   "source": [
    "## Author\n",
    "Enoch Park"
   ]
  }
 ],
 "metadata": {
  "kernelspec": {
   "display_name": "Python 3 (ipykernel)",
   "language": "python",
   "name": "python3"
  },
  "language_info": {
   "codemirror_mode": {
    "name": "ipython",
    "version": 3
   },
   "file_extension": ".py",
   "mimetype": "text/x-python",
   "name": "python",
   "nbconvert_exporter": "python",
   "pygments_lexer": "ipython3",
   "version": "3.13.5"
  }
 },
 "nbformat": 4,
 "nbformat_minor": 5
}
